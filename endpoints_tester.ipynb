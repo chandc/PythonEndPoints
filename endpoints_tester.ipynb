{
 "cells": [
  {
   "cell_type": "code",
   "execution_count": 1,
   "metadata": {
    "ExecuteTime": {
     "end_time": "2019-06-27T03:20:34.592137Z",
     "start_time": "2019-06-27T03:20:33.055765Z"
    }
   },
   "outputs": [
    {
     "name": "stdout",
     "output_type": "stream",
     "text": [
      "Running Endpoint Tester....\n",
      "\n",
      "Please enter the address of the server you want to access, \n",
      " If left blank the connection will be set to 'http://localhost:5000':   \n",
      "Making a GET Request for /puppies...\n",
      "Test 1 PASS: Succesfully Made GET Request to /puppies\n",
      "Making GET requests to /puppies/id \n",
      "Test 2 PASS: Succesfully Made GET Request to /puppies/id\n",
      "ALL TESTS PASSED!!\n"
     ]
    }
   ],
   "source": [
    "import httplib2\n",
    "import json\n",
    "import sys\n",
    "\n",
    "print (\"Running Endpoint Tester....\\n\")\n",
    "address = input(\"Please enter the address of the server you want to access, \\n If left blank the connection will be set to 'http://localhost:5000':   \")\n",
    "if address == '':\n",
    "\taddress = 'http://localhost:5000'\n",
    "#Making a GET Request\n",
    "print (\"Making a GET Request for /puppies...\")\n",
    "try:\n",
    "\turl = address + \"/puppies\"\n",
    "\th = httplib2.Http()\n",
    "\tresp, result = h.request(url, 'GET')\n",
    "\tif resp['status'] != '200':\n",
    "\t\traise Exception('Received an unsuccessful status code of %s' % resp['status'])\n",
    "except Exception as err:\n",
    "\tprint (\"Test 1 FAILED: Could not make GET Request to web server\")\n",
    "\tprint (err.args)\n",
    "\tsys.exit()\n",
    "else:\n",
    "\tprint (\"Test 1 PASS: Succesfully Made GET Request to /puppies\")\n",
    "\n",
    "#Making GET Requests to /puppies/id\n",
    "print (\"Making GET requests to /puppies/id \")\n",
    "try:\n",
    "\tid = 1 \n",
    "\twhile id <= 10:\n",
    "\t\turl = address + \"/puppies/%s\" % id \n",
    "\t\th = httplib2.Http()\n",
    "\t\tresp, result = h.request(url, 'GET')\n",
    "\t\tif resp['status'] != '200':\n",
    "\t\t\traise Exception('Received an unsuccessful status code of %s' % resp['status'])\n",
    "\t\tid = id + 1\n",
    "\n",
    "except Exception as err:\n",
    "\tprint (\"Test 2 FAILED: Could not make GET Request to /puppies/id\")\n",
    "\tprint (err.args)\n",
    "\tsys.exit()\n",
    "else:\n",
    "\tprint (\"Test 2 PASS: Succesfully Made GET Request to /puppies/id\")\n",
    "\tprint (\"ALL TESTS PASSED!!\")\n"
   ]
  },
  {
   "cell_type": "code",
   "execution_count": null,
   "metadata": {},
   "outputs": [],
   "source": []
  },
  {
   "cell_type": "code",
   "execution_count": null,
   "metadata": {},
   "outputs": [],
   "source": []
  }
 ],
 "metadata": {
  "kernelspec": {
   "display_name": "Python 3",
   "language": "python",
   "name": "python3"
  },
  "language_info": {
   "codemirror_mode": {
    "name": "ipython",
    "version": 3
   },
   "file_extension": ".py",
   "mimetype": "text/x-python",
   "name": "python",
   "nbconvert_exporter": "python",
   "pygments_lexer": "ipython3",
   "version": "3.6.7"
  },
  "toc": {
   "base_numbering": 1,
   "nav_menu": {},
   "number_sections": true,
   "sideBar": true,
   "skip_h1_title": false,
   "title_cell": "Table of Contents",
   "title_sidebar": "Contents",
   "toc_cell": false,
   "toc_position": {},
   "toc_section_display": true,
   "toc_window_display": false
  },
  "varInspector": {
   "cols": {
    "lenName": 16,
    "lenType": 16,
    "lenVar": 40
   },
   "kernels_config": {
    "python": {
     "delete_cmd_postfix": "",
     "delete_cmd_prefix": "del ",
     "library": "var_list.py",
     "varRefreshCmd": "print(var_dic_list())"
    },
    "r": {
     "delete_cmd_postfix": ") ",
     "delete_cmd_prefix": "rm(",
     "library": "var_list.r",
     "varRefreshCmd": "cat(var_dic_list()) "
    }
   },
   "types_to_exclude": [
    "module",
    "function",
    "builtin_function_or_method",
    "instance",
    "_Feature"
   ],
   "window_display": false
  }
 },
 "nbformat": 4,
 "nbformat_minor": 2
}
